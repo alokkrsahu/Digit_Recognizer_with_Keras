{
 "cells": [
  {
   "cell_type": "code",
   "execution_count": 1,
   "metadata": {
    "_cell_guid": "79c7e3d0-c299-4dcb-8224-4455121ee9b0",
    "_uuid": "d629ff2d2480ee46fbb7e2d37f6b5fab8052498a",
    "execution": {
     "iopub.execute_input": "2020-09-19T12:46:16.212798Z",
     "iopub.status.busy": "2020-09-19T12:46:16.211824Z",
     "iopub.status.idle": "2020-09-19T12:46:31.405828Z",
     "shell.execute_reply": "2020-09-19T12:46:31.406746Z"
    },
    "papermill": {
     "duration": 15.225907,
     "end_time": "2020-09-19T12:46:31.407080",
     "exception": false,
     "start_time": "2020-09-19T12:46:16.181173",
     "status": "completed"
    },
    "tags": []
   },
   "outputs": [],
   "source": [
    "import pandas as pd\n",
    "from keras.preprocessing.image import load_img, array_to_img\n",
    "from keras.utils.np_utils import to_categorical\n",
    "from keras.models import Sequential\n",
    "from keras.layers import Dense\n",
    "\n",
    "import numpy as np\n",
    "import matplotlib.pyplot as plt\n",
    "%matplotlib inline\n",
    "train = pd.read_csv(\"../input/digit-recognizer/train.csv\")\n",
    "test = pd.read_csv(\"../input/digit-recognizer/test.csv\")\n"
   ]
  },
  {
   "cell_type": "code",
   "execution_count": null,
   "metadata": {
    "papermill": {
     "duration": 0.017892,
     "end_time": "2020-09-19T12:46:31.444434",
     "exception": false,
     "start_time": "2020-09-19T12:46:31.426542",
     "status": "completed"
    },
    "tags": []
   },
   "outputs": [],
   "source": []
  },
  {
   "cell_type": "code",
   "execution_count": 2,
   "metadata": {
    "execution": {
     "iopub.execute_input": "2020-09-19T12:46:31.488366Z",
     "iopub.status.busy": "2020-09-19T12:46:31.487538Z",
     "iopub.status.idle": "2020-09-19T12:46:31.693676Z",
     "shell.execute_reply": "2020-09-19T12:46:31.694490Z"
    },
    "papermill": {
     "duration": 0.233031,
     "end_time": "2020-09-19T12:46:31.694700",
     "exception": false,
     "start_time": "2020-09-19T12:46:31.461669",
     "status": "completed"
    },
    "tags": []
   },
   "outputs": [],
   "source": [
    "train_lbl = train['label']\n",
    "train_data = train.drop(['label'],axis=1)"
   ]
  },
  {
   "cell_type": "code",
   "execution_count": 3,
   "metadata": {
    "execution": {
     "iopub.execute_input": "2020-09-19T12:46:31.736677Z",
     "iopub.status.busy": "2020-09-19T12:46:31.735846Z",
     "iopub.status.idle": "2020-09-19T12:46:31.910070Z",
     "shell.execute_reply": "2020-09-19T12:46:31.909175Z"
    },
    "papermill": {
     "duration": 0.197537,
     "end_time": "2020-09-19T12:46:31.910220",
     "exception": false,
     "start_time": "2020-09-19T12:46:31.712683",
     "status": "completed"
    },
    "tags": []
   },
   "outputs": [],
   "source": [
    "train_data = train_data.astype('float32')\n",
    "test = test.astype('float32')"
   ]
  },
  {
   "cell_type": "code",
   "execution_count": 4,
   "metadata": {
    "execution": {
     "iopub.execute_input": "2020-09-19T12:46:31.952516Z",
     "iopub.status.busy": "2020-09-19T12:46:31.951670Z",
     "iopub.status.idle": "2020-09-19T12:46:32.076367Z",
     "shell.execute_reply": "2020-09-19T12:46:32.075050Z"
    },
    "papermill": {
     "duration": 0.147823,
     "end_time": "2020-09-19T12:46:32.076531",
     "exception": false,
     "start_time": "2020-09-19T12:46:31.928708",
     "status": "completed"
    },
    "tags": []
   },
   "outputs": [],
   "source": [
    "train_data /= 255\n",
    "test /= 255"
   ]
  },
  {
   "cell_type": "code",
   "execution_count": 5,
   "metadata": {
    "execution": {
     "iopub.execute_input": "2020-09-19T12:46:32.139740Z",
     "iopub.status.busy": "2020-09-19T12:46:32.138603Z",
     "iopub.status.idle": "2020-09-19T12:46:32.142447Z",
     "shell.execute_reply": "2020-09-19T12:46:32.141407Z"
    },
    "papermill": {
     "duration": 0.039022,
     "end_time": "2020-09-19T12:46:32.142659",
     "exception": false,
     "start_time": "2020-09-19T12:46:32.103637",
     "status": "completed"
    },
    "tags": []
   },
   "outputs": [],
   "source": [
    "train_data = train_data.to_numpy()\n",
    "test = test.to_numpy()"
   ]
  },
  {
   "cell_type": "code",
   "execution_count": 6,
   "metadata": {
    "execution": {
     "iopub.execute_input": "2020-09-19T12:46:32.202407Z",
     "iopub.status.busy": "2020-09-19T12:46:32.201318Z",
     "iopub.status.idle": "2020-09-19T12:46:32.206874Z",
     "shell.execute_reply": "2020-09-19T12:46:32.206002Z"
    },
    "papermill": {
     "duration": 0.037132,
     "end_time": "2020-09-19T12:46:32.207055",
     "exception": false,
     "start_time": "2020-09-19T12:46:32.169923",
     "status": "completed"
    },
    "tags": []
   },
   "outputs": [],
   "source": [
    "train_lbl = to_categorical(train_lbl,10)"
   ]
  },
  {
   "cell_type": "code",
   "execution_count": 7,
   "metadata": {
    "execution": {
     "iopub.execute_input": "2020-09-19T12:46:32.267013Z",
     "iopub.status.busy": "2020-09-19T12:46:32.265822Z",
     "iopub.status.idle": "2020-09-19T12:46:32.508197Z",
     "shell.execute_reply": "2020-09-19T12:46:32.507271Z"
    },
    "papermill": {
     "duration": 0.276601,
     "end_time": "2020-09-19T12:46:32.508392",
     "exception": false,
     "start_time": "2020-09-19T12:46:32.231791",
     "status": "completed"
    },
    "tags": []
   },
   "outputs": [],
   "source": [
    "model = Sequential()\n",
    "model.add(Dense (512,activation='relu',input_shape = (784,)))\n",
    "model.add(Dense(512,activation='relu'))\n",
    "model.add(Dense(10,activation='softmax'))"
   ]
  },
  {
   "cell_type": "code",
   "execution_count": 8,
   "metadata": {
    "execution": {
     "iopub.execute_input": "2020-09-19T12:46:32.578748Z",
     "iopub.status.busy": "2020-09-19T12:46:32.572463Z",
     "iopub.status.idle": "2020-09-19T12:46:32.599988Z",
     "shell.execute_reply": "2020-09-19T12:46:32.599170Z"
    },
    "papermill": {
     "duration": 0.0651,
     "end_time": "2020-09-19T12:46:32.600161",
     "exception": false,
     "start_time": "2020-09-19T12:46:32.535061",
     "status": "completed"
    },
    "tags": []
   },
   "outputs": [
    {
     "name": "stdout",
     "output_type": "stream",
     "text": [
      "Model: \"sequential\"\n",
      "_________________________________________________________________\n",
      "Layer (type)                 Output Shape              Param #   \n",
      "=================================================================\n",
      "dense (Dense)                (None, 512)               401920    \n",
      "_________________________________________________________________\n",
      "dense_1 (Dense)              (None, 512)               262656    \n",
      "_________________________________________________________________\n",
      "dense_2 (Dense)              (None, 10)                5130      \n",
      "=================================================================\n",
      "Total params: 669,706\n",
      "Trainable params: 669,706\n",
      "Non-trainable params: 0\n",
      "_________________________________________________________________\n"
     ]
    }
   ],
   "source": [
    "model.compile(optimizer='adam', loss ='categorical_crossentropy', metrics = ['accuracy'])\n",
    "model.summary()"
   ]
  },
  {
   "cell_type": "code",
   "execution_count": 9,
   "metadata": {
    "execution": {
     "iopub.execute_input": "2020-09-19T12:46:32.646257Z",
     "iopub.status.busy": "2020-09-19T12:46:32.645457Z",
     "iopub.status.idle": "2020-09-19T12:48:46.586951Z",
     "shell.execute_reply": "2020-09-19T12:48:46.586180Z"
    },
    "papermill": {
     "duration": 133.967142,
     "end_time": "2020-09-19T12:48:46.587107",
     "exception": false,
     "start_time": "2020-09-19T12:46:32.619965",
     "status": "completed"
    },
    "tags": []
   },
   "outputs": [
    {
     "name": "stdout",
     "output_type": "stream",
     "text": [
      "Epoch 1/20\n",
      "1313/1313 [==============================] - 7s 5ms/step - loss: 0.2067 - accuracy: 0.9370\n",
      "Epoch 2/20\n",
      "1313/1313 [==============================] - 6s 5ms/step - loss: 0.0900 - accuracy: 0.9721\n",
      "Epoch 3/20\n",
      "1313/1313 [==============================] - 6s 5ms/step - loss: 0.0589 - accuracy: 0.9813\n",
      "Epoch 4/20\n",
      "1313/1313 [==============================] - 6s 5ms/step - loss: 0.0456 - accuracy: 0.9852\n",
      "Epoch 5/20\n",
      "1313/1313 [==============================] - 7s 5ms/step - loss: 0.0353 - accuracy: 0.9882\n",
      "Epoch 6/20\n",
      "1313/1313 [==============================] - 6s 5ms/step - loss: 0.0272 - accuracy: 0.9918\n",
      "Epoch 7/20\n",
      "1313/1313 [==============================] - 6s 5ms/step - loss: 0.0280 - accuracy: 0.9910\n",
      "Epoch 8/20\n",
      "1313/1313 [==============================] - 6s 5ms/step - loss: 0.0191 - accuracy: 0.9936\n",
      "Epoch 9/20\n",
      "1313/1313 [==============================] - 7s 5ms/step - loss: 0.0231 - accuracy: 0.9932\n",
      "Epoch 10/20\n",
      "1313/1313 [==============================] - 7s 5ms/step - loss: 0.0199 - accuracy: 0.9937\n",
      "Epoch 11/20\n",
      "1313/1313 [==============================] - 6s 5ms/step - loss: 0.0182 - accuracy: 0.9941\n",
      "Epoch 12/20\n",
      "1313/1313 [==============================] - 6s 5ms/step - loss: 0.0170 - accuracy: 0.9949\n",
      "Epoch 13/20\n",
      "1313/1313 [==============================] - 6s 5ms/step - loss: 0.0117 - accuracy: 0.9966\n",
      "Epoch 14/20\n",
      "1313/1313 [==============================] - 7s 5ms/step - loss: 0.0161 - accuracy: 0.9953\n",
      "Epoch 15/20\n",
      "1313/1313 [==============================] - 7s 5ms/step - loss: 0.0140 - accuracy: 0.9959\n",
      "Epoch 16/20\n",
      "1313/1313 [==============================] - 7s 5ms/step - loss: 0.0147 - accuracy: 0.9957\n",
      "Epoch 17/20\n",
      "1313/1313 [==============================] - 6s 5ms/step - loss: 0.0113 - accuracy: 0.9966\n",
      "Epoch 18/20\n",
      "1313/1313 [==============================] - 7s 5ms/step - loss: 0.0110 - accuracy: 0.9972\n",
      "Epoch 19/20\n",
      "1313/1313 [==============================] - 7s 5ms/step - loss: 0.0166 - accuracy: 0.9957\n",
      "Epoch 20/20\n",
      "1313/1313 [==============================] - 7s 5ms/step - loss: 0.0091 - accuracy: 0.9975\n"
     ]
    }
   ],
   "source": [
    "hist = model.fit(train_data,train_lbl,epochs=20)"
   ]
  },
  {
   "cell_type": "code",
   "execution_count": 10,
   "metadata": {
    "execution": {
     "iopub.execute_input": "2020-09-19T12:48:48.749783Z",
     "iopub.status.busy": "2020-09-19T12:48:48.748975Z",
     "iopub.status.idle": "2020-09-19T12:48:50.638767Z",
     "shell.execute_reply": "2020-09-19T12:48:50.637972Z"
    },
    "papermill": {
     "duration": 2.964678,
     "end_time": "2020-09-19T12:48:50.638909",
     "exception": false,
     "start_time": "2020-09-19T12:48:47.674231",
     "status": "completed"
    },
    "tags": []
   },
   "outputs": [],
   "source": [
    "prediction = model.predict(test)"
   ]
  },
  {
   "cell_type": "code",
   "execution_count": 11,
   "metadata": {
    "execution": {
     "iopub.execute_input": "2020-09-19T12:48:52.917513Z",
     "iopub.status.busy": "2020-09-19T12:48:52.916419Z",
     "iopub.status.idle": "2020-09-19T12:48:52.920155Z",
     "shell.execute_reply": "2020-09-19T12:48:52.919290Z"
    },
    "papermill": {
     "duration": 1.130864,
     "end_time": "2020-09-19T12:48:52.920305",
     "exception": false,
     "start_time": "2020-09-19T12:48:51.789441",
     "status": "completed"
    },
    "tags": []
   },
   "outputs": [],
   "source": [
    "output = prediction.astype('int32')"
   ]
  },
  {
   "cell_type": "code",
   "execution_count": 12,
   "metadata": {
    "execution": {
     "iopub.execute_input": "2020-09-19T12:48:55.070731Z",
     "iopub.status.busy": "2020-09-19T12:48:55.069300Z",
     "iopub.status.idle": "2020-09-19T12:48:55.073100Z",
     "shell.execute_reply": "2020-09-19T12:48:55.072387Z"
    },
    "papermill": {
     "duration": 1.067973,
     "end_time": "2020-09-19T12:48:55.073247",
     "exception": false,
     "start_time": "2020-09-19T12:48:54.005274",
     "status": "completed"
    },
    "tags": []
   },
   "outputs": [],
   "source": [
    "output2 = pd.DataFrame(output)"
   ]
  },
  {
   "cell_type": "code",
   "execution_count": 13,
   "metadata": {
    "execution": {
     "iopub.execute_input": "2020-09-19T12:48:57.252052Z",
     "iopub.status.busy": "2020-09-19T12:48:57.251207Z",
     "iopub.status.idle": "2020-09-19T12:48:57.264044Z",
     "shell.execute_reply": "2020-09-19T12:48:57.264747Z"
    },
    "papermill": {
     "duration": 1.111211,
     "end_time": "2020-09-19T12:48:57.264925",
     "exception": false,
     "start_time": "2020-09-19T12:48:56.153714",
     "status": "completed"
    },
    "tags": []
   },
   "outputs": [
    {
     "data": {
      "text/html": [
       "<div>\n",
       "<style scoped>\n",
       "    .dataframe tbody tr th:only-of-type {\n",
       "        vertical-align: middle;\n",
       "    }\n",
       "\n",
       "    .dataframe tbody tr th {\n",
       "        vertical-align: top;\n",
       "    }\n",
       "\n",
       "    .dataframe thead th {\n",
       "        text-align: right;\n",
       "    }\n",
       "</style>\n",
       "<table border=\"1\" class=\"dataframe\">\n",
       "  <thead>\n",
       "    <tr style=\"text-align: right;\">\n",
       "      <th></th>\n",
       "      <th>0</th>\n",
       "      <th>1</th>\n",
       "      <th>2</th>\n",
       "      <th>3</th>\n",
       "      <th>4</th>\n",
       "      <th>5</th>\n",
       "      <th>6</th>\n",
       "      <th>7</th>\n",
       "      <th>8</th>\n",
       "      <th>9</th>\n",
       "    </tr>\n",
       "  </thead>\n",
       "  <tbody>\n",
       "    <tr>\n",
       "      <th>0</th>\n",
       "      <td>0</td>\n",
       "      <td>0</td>\n",
       "      <td>1</td>\n",
       "      <td>0</td>\n",
       "      <td>0</td>\n",
       "      <td>0</td>\n",
       "      <td>0</td>\n",
       "      <td>0</td>\n",
       "      <td>0</td>\n",
       "      <td>0</td>\n",
       "    </tr>\n",
       "    <tr>\n",
       "      <th>1</th>\n",
       "      <td>1</td>\n",
       "      <td>0</td>\n",
       "      <td>0</td>\n",
       "      <td>0</td>\n",
       "      <td>0</td>\n",
       "      <td>0</td>\n",
       "      <td>0</td>\n",
       "      <td>0</td>\n",
       "      <td>0</td>\n",
       "      <td>0</td>\n",
       "    </tr>\n",
       "    <tr>\n",
       "      <th>2</th>\n",
       "      <td>0</td>\n",
       "      <td>0</td>\n",
       "      <td>0</td>\n",
       "      <td>0</td>\n",
       "      <td>0</td>\n",
       "      <td>0</td>\n",
       "      <td>0</td>\n",
       "      <td>0</td>\n",
       "      <td>0</td>\n",
       "      <td>0</td>\n",
       "    </tr>\n",
       "    <tr>\n",
       "      <th>3</th>\n",
       "      <td>0</td>\n",
       "      <td>0</td>\n",
       "      <td>0</td>\n",
       "      <td>0</td>\n",
       "      <td>0</td>\n",
       "      <td>0</td>\n",
       "      <td>0</td>\n",
       "      <td>0</td>\n",
       "      <td>0</td>\n",
       "      <td>0</td>\n",
       "    </tr>\n",
       "    <tr>\n",
       "      <th>4</th>\n",
       "      <td>0</td>\n",
       "      <td>0</td>\n",
       "      <td>0</td>\n",
       "      <td>1</td>\n",
       "      <td>0</td>\n",
       "      <td>0</td>\n",
       "      <td>0</td>\n",
       "      <td>0</td>\n",
       "      <td>0</td>\n",
       "      <td>0</td>\n",
       "    </tr>\n",
       "    <tr>\n",
       "      <th>...</th>\n",
       "      <td>...</td>\n",
       "      <td>...</td>\n",
       "      <td>...</td>\n",
       "      <td>...</td>\n",
       "      <td>...</td>\n",
       "      <td>...</td>\n",
       "      <td>...</td>\n",
       "      <td>...</td>\n",
       "      <td>...</td>\n",
       "      <td>...</td>\n",
       "    </tr>\n",
       "    <tr>\n",
       "      <th>27995</th>\n",
       "      <td>0</td>\n",
       "      <td>0</td>\n",
       "      <td>0</td>\n",
       "      <td>0</td>\n",
       "      <td>0</td>\n",
       "      <td>0</td>\n",
       "      <td>0</td>\n",
       "      <td>0</td>\n",
       "      <td>0</td>\n",
       "      <td>1</td>\n",
       "    </tr>\n",
       "    <tr>\n",
       "      <th>27996</th>\n",
       "      <td>0</td>\n",
       "      <td>0</td>\n",
       "      <td>0</td>\n",
       "      <td>0</td>\n",
       "      <td>0</td>\n",
       "      <td>0</td>\n",
       "      <td>0</td>\n",
       "      <td>1</td>\n",
       "      <td>0</td>\n",
       "      <td>0</td>\n",
       "    </tr>\n",
       "    <tr>\n",
       "      <th>27997</th>\n",
       "      <td>0</td>\n",
       "      <td>0</td>\n",
       "      <td>0</td>\n",
       "      <td>1</td>\n",
       "      <td>0</td>\n",
       "      <td>0</td>\n",
       "      <td>0</td>\n",
       "      <td>0</td>\n",
       "      <td>0</td>\n",
       "      <td>0</td>\n",
       "    </tr>\n",
       "    <tr>\n",
       "      <th>27998</th>\n",
       "      <td>0</td>\n",
       "      <td>0</td>\n",
       "      <td>0</td>\n",
       "      <td>0</td>\n",
       "      <td>0</td>\n",
       "      <td>0</td>\n",
       "      <td>0</td>\n",
       "      <td>0</td>\n",
       "      <td>0</td>\n",
       "      <td>0</td>\n",
       "    </tr>\n",
       "    <tr>\n",
       "      <th>27999</th>\n",
       "      <td>0</td>\n",
       "      <td>0</td>\n",
       "      <td>1</td>\n",
       "      <td>0</td>\n",
       "      <td>0</td>\n",
       "      <td>0</td>\n",
       "      <td>0</td>\n",
       "      <td>0</td>\n",
       "      <td>0</td>\n",
       "      <td>0</td>\n",
       "    </tr>\n",
       "  </tbody>\n",
       "</table>\n",
       "<p>28000 rows × 10 columns</p>\n",
       "</div>"
      ],
      "text/plain": [
       "       0  1  2  3  4  5  6  7  8  9\n",
       "0      0  0  1  0  0  0  0  0  0  0\n",
       "1      1  0  0  0  0  0  0  0  0  0\n",
       "2      0  0  0  0  0  0  0  0  0  0\n",
       "3      0  0  0  0  0  0  0  0  0  0\n",
       "4      0  0  0  1  0  0  0  0  0  0\n",
       "...   .. .. .. .. .. .. .. .. .. ..\n",
       "27995  0  0  0  0  0  0  0  0  0  1\n",
       "27996  0  0  0  0  0  0  0  1  0  0\n",
       "27997  0  0  0  1  0  0  0  0  0  0\n",
       "27998  0  0  0  0  0  0  0  0  0  0\n",
       "27999  0  0  1  0  0  0  0  0  0  0\n",
       "\n",
       "[28000 rows x 10 columns]"
      ]
     },
     "execution_count": 13,
     "metadata": {},
     "output_type": "execute_result"
    }
   ],
   "source": [
    "output2"
   ]
  },
  {
   "cell_type": "code",
   "execution_count": 14,
   "metadata": {
    "execution": {
     "iopub.execute_input": "2020-09-19T12:48:59.442380Z",
     "iopub.status.busy": "2020-09-19T12:48:59.441573Z",
     "iopub.status.idle": "2020-09-19T12:48:59.641043Z",
     "shell.execute_reply": "2020-09-19T12:48:59.640222Z"
    },
    "papermill": {
     "duration": 1.305368,
     "end_time": "2020-09-19T12:48:59.641200",
     "exception": false,
     "start_time": "2020-09-19T12:48:58.335832",
     "status": "completed"
    },
    "tags": []
   },
   "outputs": [],
   "source": [
    "for col in output2:\n",
    "    output2[col] = output2[col].apply(lambda x : x * col)"
   ]
  },
  {
   "cell_type": "code",
   "execution_count": 15,
   "metadata": {
    "execution": {
     "iopub.execute_input": "2020-09-19T12:49:01.806729Z",
     "iopub.status.busy": "2020-09-19T12:49:01.805953Z",
     "iopub.status.idle": "2020-09-19T12:49:01.812174Z",
     "shell.execute_reply": "2020-09-19T12:49:01.811508Z"
    },
    "papermill": {
     "duration": 1.090411,
     "end_time": "2020-09-19T12:49:01.812316",
     "exception": false,
     "start_time": "2020-09-19T12:49:00.721905",
     "status": "completed"
    },
    "tags": []
   },
   "outputs": [],
   "source": [
    "new_output = output2.sum(axis=1)"
   ]
  },
  {
   "cell_type": "code",
   "execution_count": 16,
   "metadata": {
    "execution": {
     "iopub.execute_input": "2020-09-19T12:49:04.026877Z",
     "iopub.status.busy": "2020-09-19T12:49:04.025731Z",
     "iopub.status.idle": "2020-09-19T12:49:04.028781Z",
     "shell.execute_reply": "2020-09-19T12:49:04.029462Z"
    },
    "papermill": {
     "duration": 1.115036,
     "end_time": "2020-09-19T12:49:04.029671",
     "exception": false,
     "start_time": "2020-09-19T12:49:02.914635",
     "status": "completed"
    },
    "tags": []
   },
   "outputs": [],
   "source": [
    "new_output = pd.DataFrame(new_output)"
   ]
  },
  {
   "cell_type": "code",
   "execution_count": 17,
   "metadata": {
    "execution": {
     "iopub.execute_input": "2020-09-19T12:49:06.175406Z",
     "iopub.status.busy": "2020-09-19T12:49:06.174267Z",
     "iopub.status.idle": "2020-09-19T12:49:06.178198Z",
     "shell.execute_reply": "2020-09-19T12:49:06.177462Z"
    },
    "papermill": {
     "duration": 1.09949,
     "end_time": "2020-09-19T12:49:06.178346",
     "exception": false,
     "start_time": "2020-09-19T12:49:05.078856",
     "status": "completed"
    },
    "tags": []
   },
   "outputs": [],
   "source": [
    "new_output = new_output[0].rename('Label')\n",
    "new_output.index.name = 'ImageId'"
   ]
  },
  {
   "cell_type": "code",
   "execution_count": 18,
   "metadata": {
    "execution": {
     "iopub.execute_input": "2020-09-19T12:49:08.391405Z",
     "iopub.status.busy": "2020-09-19T12:49:08.390194Z",
     "iopub.status.idle": "2020-09-19T12:49:08.394338Z",
     "shell.execute_reply": "2020-09-19T12:49:08.393525Z"
    },
    "papermill": {
     "duration": 1.138492,
     "end_time": "2020-09-19T12:49:08.394486",
     "exception": false,
     "start_time": "2020-09-19T12:49:07.255994",
     "status": "completed"
    },
    "tags": []
   },
   "outputs": [],
   "source": [
    "new_output.index += 1"
   ]
  },
  {
   "cell_type": "code",
   "execution_count": 19,
   "metadata": {
    "execution": {
     "iopub.execute_input": "2020-09-19T12:49:10.548537Z",
     "iopub.status.busy": "2020-09-19T12:49:10.547607Z",
     "iopub.status.idle": "2020-09-19T12:49:10.552574Z",
     "shell.execute_reply": "2020-09-19T12:49:10.551762Z"
    },
    "papermill": {
     "duration": 1.091282,
     "end_time": "2020-09-19T12:49:10.552720",
     "exception": false,
     "start_time": "2020-09-19T12:49:09.461438",
     "status": "completed"
    },
    "tags": []
   },
   "outputs": [
    {
     "data": {
      "text/plain": [
       "ImageId\n",
       "1        2\n",
       "2        0\n",
       "3        0\n",
       "4        0\n",
       "5        3\n",
       "        ..\n",
       "27996    9\n",
       "27997    7\n",
       "27998    3\n",
       "27999    0\n",
       "28000    2\n",
       "Name: Label, Length: 28000, dtype: int64"
      ]
     },
     "execution_count": 19,
     "metadata": {},
     "output_type": "execute_result"
    }
   ],
   "source": [
    "new_output"
   ]
  },
  {
   "cell_type": "code",
   "execution_count": 20,
   "metadata": {
    "execution": {
     "iopub.execute_input": "2020-09-19T12:49:12.730858Z",
     "iopub.status.busy": "2020-09-19T12:49:12.730045Z",
     "iopub.status.idle": "2020-09-19T12:49:13.096785Z",
     "shell.execute_reply": "2020-09-19T12:49:13.095884Z"
    },
    "papermill": {
     "duration": 1.449604,
     "end_time": "2020-09-19T12:49:13.096948",
     "exception": false,
     "start_time": "2020-09-19T12:49:11.647344",
     "status": "completed"
    },
    "tags": []
   },
   "outputs": [],
   "source": [
    "\n",
    "new_output.to_csv('./Submission.csv')"
   ]
  }
 ],
 "metadata": {
  "kernelspec": {
   "display_name": "Python 3",
   "language": "python",
   "name": "python3"
  },
  "language_info": {
   "codemirror_mode": {
    "name": "ipython",
    "version": 3
   },
   "file_extension": ".py",
   "mimetype": "text/x-python",
   "name": "python",
   "nbconvert_exporter": "python",
   "pygments_lexer": "ipython3",
   "version": "3.7.6"
  },
  "papermill": {
   "duration": 184.005591,
   "end_time": "2020-09-19T12:49:14.319663",
   "environment_variables": {},
   "exception": null,
   "input_path": "__notebook__.ipynb",
   "output_path": "__notebook__.ipynb",
   "parameters": {},
   "start_time": "2020-09-19T12:46:10.314072",
   "version": "2.1.0"
  }
 },
 "nbformat": 4,
 "nbformat_minor": 4
}
